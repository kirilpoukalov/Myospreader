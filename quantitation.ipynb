{
 "cells": [
  {
   "cell_type": "code",
   "execution_count": 3,
   "metadata": {},
   "outputs": [],
   "source": [
    "import os\n",
    "import pandas as pd \n",
    "import numpy as np\n",
    "inputdir='D:\\\\Science\\\\images\\\\stellarvision_processing\\\\test'\n",
    "inputfiles=os.listdir(inputdir)\n",
    "for x in inputfiles:\n",
    "    famfile=x\n",
    "    if famfile.startswith(\"FAM\"):\n",
    "        if famfile.endswith(\"nuclei.txt\"):\n",
    "            df = pd.read_csv(inputdir+ \"\\\\\" + famfile) \n",
    "            FAMnuclei= df.query(\"400<pixel_count<1500\")['max']\n",
    "            FAMnuclei=FAMnuclei.to_frame()\n",
    "            NucleiID=list(FAMnuclei.index.values)\n",
    "            cutoff= FAMnuclei['max'].mean() + 2*FAMnuclei['max'].std()\n",
    "            Cas9Nuclei=FAMnuclei[(FAMnuclei[\"max\"]>=cutoff)]\n",
    "            Cas9NucleiID= list(Cas9Nuclei.index.values)\n",
    "            for x in inputfiles:\n",
    "                Cy5file=x\n",
    "                df = pd.read_csv(inputdir+ \"\\\\\" + Cy5file) \n",
    "                Cy5nuclei= df.query('index in @NucleiID')\n",
    "                for x in inputfiles:\n",
    "                    famdistancefile=x\n",
    "                    if famdistancefile.startswith(famfile[0:22]):\n",
    "                        if famdistancefile.endswith(\"Distances.txt\"):\n",
    "                            df = pd.read_csv(inputdir+ \"\\\\\" + famdistancefile) \n",
    "                            Famdistances= df.query('index in @NucleiID')\n",
    "\n"
   ]
  }
 ],
 "metadata": {
  "kernelspec": {
   "display_name": "base",
   "language": "python",
   "name": "python3"
  },
  "language_info": {
   "codemirror_mode": {
    "name": "ipython",
    "version": 3
   },
   "file_extension": ".py",
   "mimetype": "text/x-python",
   "name": "python",
   "nbconvert_exporter": "python",
   "pygments_lexer": "ipython3",
   "version": "3.11.4"
  },
  "orig_nbformat": 4
 },
 "nbformat": 4,
 "nbformat_minor": 2
}
